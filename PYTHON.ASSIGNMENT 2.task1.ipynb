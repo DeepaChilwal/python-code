{
 "cells": [
  {
   "cell_type": "code",
   "execution_count": null,
   "id": "82e98284-ca27-4d68-b21b-7f3a994d6b74",
   "metadata": {},
   "outputs": [],
   "source": [
    "###1\n",
    "UNLITWOMEN=bs=float(input(\"enter the salary of Ramesh\"))\n",
    "da= 40/100*bs\n",
    "hra= 20/100*bs\n",
    "GS=bs+da+hra\n",
    "print (GS)"
   ]
  },
  {
   "cell_type": "code",
   "execution_count": 11,
   "id": "003f7e99-bd80-4a2e-92a4-05bb6cadfc91",
   "metadata": {},
   "outputs": [
    {
     "name": "stdin",
     "output_type": "stream",
     "text": [
      "Enter the distance between to cities in kilometer 30\n"
     ]
    },
    {
     "name": "stdout",
     "output_type": "stream",
     "text": [
      "value in meter 30000\n",
      "value in inches 1181100.0\n",
      "value in feet 98430.0\n",
      "value in centimeter 300.0\n"
     ]
    }
   ],
   "source": [
    "###2\n",
    "km= int(input(\"Enter the distance between to cities in kilometer\"))\n",
    "m=km*1000\n",
    "print ('value in meter',m)\n",
    "inch=39.37*m\n",
    "print ('value in inches',inch)\n",
    "feet=3.281*m\n",
    "print('value in feet',feet)\n",
    "cm=m/100\n",
    "print (\"value in centimeter\",cm)\n"
   ]
  },
  {
   "cell_type": "code",
   "execution_count": 5,
   "id": "ebc55873-4c35-4d3e-8d37-a53141d00e08",
   "metadata": {},
   "outputs": [
    {
     "name": "stdin",
     "output_type": "stream",
     "text": [
      "marks obtained in subject1- 90\n",
      "marks obtained in subject2- 89\n",
      "marks obtained in subject3- 89.8\n",
      "marks obtained in subject4- 60\n",
      "marks obtained in subject5- 77\n"
     ]
    },
    {
     "name": "stdout",
     "output_type": "stream",
     "text": [
      "aggregate Marks 405.8\n",
      "percentage 81.16\n"
     ]
    }
   ],
   "source": [
    "3.### Student Marks in 5 different subjects\n",
    "##Total=500(assumING subject maximum marks is 100)\n",
    "sub1=float(input('marks obtained in subject1-'))\n",
    "sub2=float(input('marks obtained in subject2-'))\n",
    "sub3=float(input('marks obtained in subject3-'))\n",
    "sub4=float(input('marks obtained in subject4-'))\n",
    "sub5=float(input('marks obtained in subject5-')) \n",
    "AG=sub1+sub2+sub3+sub4+sub5\n",
    "print('aggregate Marks',AG)\n",
    "PM=AG/500*100\n",
    "print('percentage',PM)\n",
    "     \n",
    " "
   ]
  },
  {
   "cell_type": "code",
   "execution_count": 8,
   "id": "4a410447-bc48-46bd-b4b0-266dc7438eae",
   "metadata": {},
   "outputs": [
    {
     "name": "stdin",
     "output_type": "stream",
     "text": [
      "Enter the temprature of a city in fahrenhite in degrees 45\n"
     ]
    },
    {
     "name": "stdout",
     "output_type": "stream",
     "text": [
      "temperature in centigrade degrees 7.222222222222222 C\n"
     ]
    }
   ],
   "source": [
    "4.####CONVERT TEMPRATURE INTO CENTIGRADE DEGREES\n",
    "\n",
    "TEMP= float(input('Enter the temprature of a city in fahrenhite in degrees'))\n",
    "c=5/9*(TEMP-32)\n",
    "print ('temperature in centigrade degrees',c,'C')\n",
    "                  "
   ]
  },
  {
   "cell_type": "code",
   "execution_count": 11,
   "id": "a9953569-f0f3-473d-810b-70810f37c36c",
   "metadata": {},
   "outputs": [
    {
     "name": "stdin",
     "output_type": "stream",
     "text": [
      "enter the length of the rectangle 34\n",
      "enter the breadth of rectangle 35\n",
      "enter the radius of circle 5\n"
     ]
    },
    {
     "name": "stdout",
     "output_type": "stream",
     "text": [
      "Area of a rectangle- 1190.0\n",
      "perimeter of rectangle- 103.0\n",
      "Area of a circle- 78.57142857142857\n",
      "circumfrence of the circle- 31.428571428571427\n"
     ]
    }
   ],
   "source": [
    "5.##Find the Area and perimeter of rectangle\n",
    "##Find the circumfrence and area of circle\n",
    "\n",
    "l=float(input('enter the length of the rectangle'))\n",
    "b=float(input('enter the breadth of rectangle'))\n",
    "r=float(input('enter the radius of circle'))\n",
    "A=l*b\n",
    "print('Area of a rectangle-',A)\n",
    "P=2*l+b\n",
    "print('perimeter of rectangle-',P)\n",
    "Ar=22/7*r*r\n",
    "print('Area of a circle-',Ar)\n",
    "Cr= 2*22/7*r\n",
    "print('circumfrence of the circle-',Cr)\n"
   ]
  },
  {
   "cell_type": "code",
   "execution_count": 20,
   "id": "54b23b86-cdc4-4dc4-b844-53fecca673fc",
   "metadata": {},
   "outputs": [
    {
     "name": "stdin",
     "output_type": "stream",
     "text": [
      "Enter the first no.: 23\n",
      "Enter the Second no.: 34\n"
     ]
    },
    {
     "name": "stdout",
     "output_type": "stream",
     "text": [
      "The value of  C after swapping:34\n",
      "The value of D after swapping:23\n"
     ]
    }
   ],
   "source": [
    "###6\n",
    "C= (input('Enter the first no.:'))\n",
    "D= (input('Enter the Second no.:'))\n",
    "temp=C\n",
    "C=D\n",
    "D=temp\n",
    "print('The value of  C after swapping:{}'.format(C))\n",
    "print('The value of D after swapping:{}'.format(D))\n",
    "\n",
    "            "
   ]
  },
  {
   "cell_type": "code",
   "execution_count": 9,
   "id": "2f169477-6ce0-40b3-8eb2-cedb2bcb8382",
   "metadata": {},
   "outputs": [
    {
     "name": "stdin",
     "output_type": "stream",
     "text": [
      "Enter 5 digits number 23456\n"
     ]
    },
    {
     "name": "stdout",
     "output_type": "stream",
     "text": [
      "sum of the digits: 20\n"
     ]
    }
   ],
   "source": [
    "7.###Enter 5 digits and calculate sum of digits:\n",
    "n=int(input('Enter 5 digits number'))\n",
    "sum=0\n",
    "a=n%10\n",
    "n=n//10\n",
    "sum=sum+a\n",
    "a=n%10\n",
    "n=n//10\n",
    "sum=sum+a\n",
    "\n",
    "a=n%10\n",
    "n=n//10\n",
    "sum=sum+a\n",
    "\n",
    "a=n%10\n",
    "n=n//10\n",
    "sum=sum+a\n",
    "a=n%10\n",
    "n=n//10\n",
    "sum=sum+a\n",
    "\n",
    "\n",
    "\n",
    "print(\"sum of the digits:\",sum)\n",
    "        \n",
    "        "
   ]
  },
  {
   "cell_type": "code",
   "execution_count": 8,
   "id": "a57c855a-b935-422d-9491-d657cb2ff50a",
   "metadata": {},
   "outputs": [
    {
     "name": "stdin",
     "output_type": "stream",
     "text": [
      "Enter the five digit number 12345\n"
     ]
    },
    {
     "name": "stdout",
     "output_type": "stream",
     "text": [
      "Reverse of five digit numbers: 54321\n"
     ]
    }
   ],
   "source": [
    "8.###Reverse the Number\n",
    "n=int(input('Enter the five digit number'))\n",
    "revnum=0\n",
    "a=n%10\n",
    "n=n//10\n",
    "revnum=revnum+a*10000\n",
    "a=n%10\n",
    "n=n//10\n",
    "revnum=revnum+a*1000\n",
    "a=n%10\n",
    "n=n//10\n",
    "revnum=revnum+a*100\n",
    "a=n%10\n",
    "n=n//10\n",
    "revnum=revnum+a*10\n",
    "a=n%10\n",
    "n=n//10\n",
    "revnum=revnum+a\n",
    "print('Reverse of five digit numbers:',revnum)"
   ]
  },
  {
   "cell_type": "code",
   "execution_count": 2,
   "id": "2eb7d683-6afb-4b42-a774-bfac6033644b",
   "metadata": {},
   "outputs": [
    {
     "name": "stdin",
     "output_type": "stream",
     "text": [
      "Enter four digits number 1989\n"
     ]
    },
    {
     "name": "stdout",
     "output_type": "stream",
     "text": [
      "sum of first digit and last digit= 10\n"
     ]
    }
   ],
   "source": [
    "9.###Sum of first and last digit \n",
    "num= int(input('Enter four digits number'))\n",
    "sum=0\n",
    "n=num//1000\n",
    "sum =sum+n\n",
    "n=num%10\n",
    "sum=sum+n\n",
    "print('sum of first digit and last digit=',sum)"
   ]
  },
  {
   "cell_type": "code",
   "execution_count": 3,
   "id": "e5c0c37a-c789-4b08-a53f-500c42350a43",
   "metadata": {},
   "outputs": [
    {
     "name": "stdout",
     "output_type": "stream",
     "text": [
      "total population: 80000\n",
      "total men : 41600.0\n",
      "total women: 38400.0\n",
      "total literacy : 36000.0\n",
      "total literacymen : 28000.0\n",
      "total literacy women : 8000.0\n",
      "total not literacymen : 13600.0\n",
      "total not literacy women : 30400.0\n"
     ]
    }
   ],
   "source": [
    "10.####total no. of illiterate men and women\n",
    "pop=80000\n",
    "menpop=( 52*pop)/100\n",
    "womenpop= pop- menpop\n",
    "litpop=(45*pop)/100\n",
    "litmen= (35*pop)/100\n",
    "litwomen = litpop-litmen\n",
    "unlitwomen = menpop-litmen\n",
    "unlitmen = menpop-litmen\n",
    "unlitwomen = womenpop-litwomen\n",
    "print('total population:',pop)\n",
    "print('total men :',menpop)\n",
    "print('total women:',womenpop)\n",
    "print('total literacy :',litpop)\n",
    "print('total literacymen :',litmen)\n",
    "print('total literacy women :',litwomen)\n",
    "print('total not literacymen :',unlitmen)\n",
    "print('total not literacy women :',unlitwomen)"
   ]
  },
  {
   "cell_type": "code",
   "execution_count": 9,
   "id": "c179f956-707f-48e2-97b3-95a6220eb51b",
   "metadata": {},
   "outputs": [
    {
     "name": "stdin",
     "output_type": "stream",
     "text": [
      "Enter the Amount to be Withdrawn : 750\n"
     ]
    },
    {
     "name": "stdout",
     "output_type": "stream",
     "text": [
      "No of Hundred Notes : 7\n",
      "No of Fifty Notes : 1\n",
      "No of Ten Notes : 0\n"
     ]
    }
   ],
   "source": [
    "11.##currency\n",
    "amt = int(input(\"Enter the Amount to be Withdrawn :\"))\n",
    "hund= amt//100\n",
    "amt = amt%100\n",
    "fif = amt//50\n",
    "amt = amt%50\n",
    "ten = amt//10\n",
    "print(\"No of Hundred Notes :\",hund)\n",
    "print(\"No of Fifty Notes :\",fif)\n",
    "print(\"No of Ten Notes :\",ten)\n"
   ]
  },
  {
   "cell_type": "code",
   "execution_count": 4,
   "id": "211791c7-3f10-498d-ba52-b31ffdaaf530",
   "metadata": {},
   "outputs": [
    {
     "name": "stdin",
     "output_type": "stream",
     "text": [
      "enter the selling price of 15items 3456\n",
      "enter the profit of total items 666\n"
     ]
    },
    {
     "name": "stdout",
     "output_type": "stream",
     "text": [
      "cost price of total items 2790.0\n",
      "cost price of an item: 186.0\n"
     ]
    }
   ],
   "source": [
    "12.####find out price of an item\n",
    "sp=int(input('enter the selling price of 15items'))\n",
    "p=float(input('enter the profit of total items'))\n",
    "cp=sp-p\n",
    "print('cost price of total items',cp)\n",
    "##1item price is r\n",
    "r= cp/15\n",
    "print('cost price of an item:',r)\n",
    "\n",
    "       "
   ]
  },
  {
   "cell_type": "code",
   "execution_count": 7,
   "id": "e2dbd0ce-c4e2-4503-9e90-ced276321d02",
   "metadata": {},
   "outputs": [
    {
     "name": "stdin",
     "output_type": "stream",
     "text": [
      "Enter the Five Digits : 12391\n"
     ]
    },
    {
     "name": "stdout",
     "output_type": "stream",
     "text": [
      "Old Number : 12391\n",
      "New Number : 23502\n"
     ]
    },
    {
     "name": "stdin",
     "output_type": "stream",
     "text": [
      "Enter the Five Digits : 12459\n"
     ]
    },
    {
     "name": "stdout",
     "output_type": "stream",
     "text": [
      "23570\n"
     ]
    }
   ],
   "source": [
    "13.###\n",
    "num = int(input(\"Enter the Five Digits :\"))\n",
    "onum=num\n",
    "sum = 0\n",
    "a = (num // 10000)+1\n",
    "num = num % 10000\n",
    "sum=sum+(a*10000);\n",
    " \n",
    "a = (num // 1000)+1\n",
    "num = num % 1000\n",
    "sum = sum+(a*1000)\n",
    " \n",
    "a = (num // 100)+1\n",
    "num = num % 100\n",
    "sum = sum+(a*100)\n",
    " \n",
    " \n",
    "a = (num // 10)+1\n",
    "num = num % 10\n",
    "sum = sum+(a*10)\n",
    " \n",
    " \n",
    "a = num+1\n",
    "sum = sum+a\n",
    "print(\"Old Number :\",onum)\n",
    "print(\"New Number :\",sum)\n",
    " \n",
    "num = int(input(\"Enter the Five Digits :\"))\n",
    "sum = 0\n",
    "a = (num // 10000)+1\n",
    "num = num % 10000\n",
    "sum=sum+a;\n",
    " \n",
    "a = (num // 1000)+1\n",
    "num = num % 1000\n",
    "sum = (sum*10)+a\n",
    " \n",
    "a = (num // 100)+1\n",
    "num = num % 100\n",
    "sum = (sum*10)+a\n",
    " \n",
    " \n",
    "a = (num // 10)+1\n",
    "num = num % 10\n",
    "sum = (sum*10)+a\n",
    " \n",
    " \n",
    "a = num+1\n",
    "sum = (sum*10)+a\n",
    "print(sum)"
   ]
  },
  {
   "cell_type": "code",
   "execution_count": null,
   "id": "c563d447-72c7-400b-9589-2d347c27ac8c",
   "metadata": {},
   "outputs": [],
   "source": []
  }
 ],
 "metadata": {
  "kernelspec": {
   "display_name": "Python 3 (ipykernel)",
   "language": "python",
   "name": "python3"
  },
  "language_info": {
   "codemirror_mode": {
    "name": "ipython",
    "version": 3
   },
   "file_extension": ".py",
   "mimetype": "text/x-python",
   "name": "python",
   "nbconvert_exporter": "python",
   "pygments_lexer": "ipython3",
   "version": "3.12.4"
  }
 },
 "nbformat": 4,
 "nbformat_minor": 5
}
